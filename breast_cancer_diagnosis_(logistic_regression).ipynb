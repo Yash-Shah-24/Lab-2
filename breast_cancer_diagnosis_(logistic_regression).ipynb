{
  "nbformat": 4,
  "nbformat_minor": 0,
  "metadata": {
    "colab": {
      "name": "breast cancer diagnosis (logistic regression).ipynb",
      "provenance": []
    },
    "kernelspec": {
      "name": "python3",
      "display_name": "Python 3"
    },
    "language_info": {
      "name": "python"
    }
  },
  "cells": [
    {
      "cell_type": "code",
      "metadata": {
        "id": "hLdTuGdvrDLZ"
      },
      "source": [
        "import pandas as pd\n",
        "import numpy as np\n",
        "from sklearn.linear_model import LogisticRegression\n",
        "from sklearn.model_selection import train_test_split\n",
        "from sklearn.metrics import accuracy_score\n",
        "from sklearn.preprocessing import LabelEncoder"
      ],
      "execution_count": 29,
      "outputs": []
    },
    {
      "cell_type": "code",
      "metadata": {
        "id": "4TxyyzgfyE59"
      },
      "source": [
        "data = pd.read_csv('data.csv')\n",
        "data.head()\n",
        "data = data.drop(['id','Unnamed: 32'],axis=1)\n"
      ],
      "execution_count": 30,
      "outputs": []
    },
    {
      "cell_type": "code",
      "metadata": {
        "colab": {
          "base_uri": "https://localhost:8080/"
        },
        "id": "hTHuHK3g2Zw_",
        "outputId": "e6ba8a83-aac7-4963-b80a-fc9bf6832db3"
      },
      "source": [
        "def encode(dataset):\n",
        "  le = LabelEncoder()\n",
        "  for column in data.columns:\n",
        "    if data[column].dtype == 'object':\n",
        "      data[column] = le.fit_transform(data[column])\n",
        "      return data\n",
        "\n",
        "data = encode(data)\n",
        "data.head()\n",
        "x = data.drop(['diagnosis'],axis=1)\n",
        "y = data.diagnosis\n",
        "print(x)\n",
        "print(y)"
      ],
      "execution_count": 31,
      "outputs": [
        {
          "output_type": "stream",
          "text": [
            "     radius_mean  texture_mean  ...  symmetry_worst  fractal_dimension_worst\n",
            "0          17.99         10.38  ...          0.4601                  0.11890\n",
            "1          20.57         17.77  ...          0.2750                  0.08902\n",
            "2          19.69         21.25  ...          0.3613                  0.08758\n",
            "3          11.42         20.38  ...          0.6638                  0.17300\n",
            "4          20.29         14.34  ...          0.2364                  0.07678\n",
            "..           ...           ...  ...             ...                      ...\n",
            "564        21.56         22.39  ...          0.2060                  0.07115\n",
            "565        20.13         28.25  ...          0.2572                  0.06637\n",
            "566        16.60         28.08  ...          0.2218                  0.07820\n",
            "567        20.60         29.33  ...          0.4087                  0.12400\n",
            "568         7.76         24.54  ...          0.2871                  0.07039\n",
            "\n",
            "[569 rows x 30 columns]\n",
            "0      1\n",
            "1      1\n",
            "2      1\n",
            "3      1\n",
            "4      1\n",
            "      ..\n",
            "564    1\n",
            "565    1\n",
            "566    1\n",
            "567    1\n",
            "568    0\n",
            "Name: diagnosis, Length: 569, dtype: int64\n"
          ],
          "name": "stdout"
        }
      ]
    },
    {
      "cell_type": "code",
      "metadata": {
        "colab": {
          "base_uri": "https://localhost:8080/"
        },
        "id": "QwptTFph2vCa",
        "outputId": "e84b0ddf-9cb9-4076-8c87-33c60812c0ea"
      },
      "source": [
        "x_train, x_test, y_train, y_test = train_test_split(x,y,test_size = 0.20, random_state = 1)\n",
        "print(x_train)\n",
        "print(y_train)"
      ],
      "execution_count": 32,
      "outputs": [
        {
          "output_type": "stream",
          "text": [
            "     radius_mean  texture_mean  ...  symmetry_worst  fractal_dimension_worst\n",
            "408        17.99         20.66  ...          0.3060                  0.08503\n",
            "4          20.29         14.34  ...          0.2364                  0.07678\n",
            "307         9.00         14.40  ...          0.2991                  0.07804\n",
            "386        12.21         14.09  ...          0.2677                  0.08824\n",
            "404        12.34         14.95  ...          0.2298                  0.05974\n",
            "..           ...           ...  ...             ...                      ...\n",
            "129        19.79         25.12  ...          0.3305                  0.08465\n",
            "144        10.75         14.97  ...          0.2300                  0.06769\n",
            "72         17.20         24.52  ...          0.3313                  0.13390\n",
            "235        14.03         21.25  ...          0.2226                  0.07617\n",
            "37         13.03         18.42  ...          0.1987                  0.06169\n",
            "\n",
            "[455 rows x 30 columns]\n",
            "408    1\n",
            "4      1\n",
            "307    0\n",
            "386    0\n",
            "404    0\n",
            "      ..\n",
            "129    1\n",
            "144    0\n",
            "72     1\n",
            "235    0\n",
            "37     0\n",
            "Name: diagnosis, Length: 455, dtype: int64\n"
          ],
          "name": "stdout"
        }
      ]
    },
    {
      "cell_type": "code",
      "metadata": {
        "colab": {
          "base_uri": "https://localhost:8080/"
        },
        "id": "-qBrkcAd3gzh",
        "outputId": "6b02ae90-713c-44d1-d216-962ebc77cbc2"
      },
      "source": [
        "log_reg = LogisticRegression()\n",
        "log_reg.fit(x_train,y_train)\n",
        "y_pred = log_reg.predict(x_test)\n",
        "accuracy = accuracy_score(y_test,y_pred)\n",
        "print(accuracy)"
      ],
      "execution_count": 33,
      "outputs": [
        {
          "output_type": "stream",
          "text": [
            "0.9473684210526315\n"
          ],
          "name": "stdout"
        },
        {
          "output_type": "stream",
          "text": [
            "/usr/local/lib/python3.7/dist-packages/sklearn/linear_model/_logistic.py:940: ConvergenceWarning: lbfgs failed to converge (status=1):\n",
            "STOP: TOTAL NO. of ITERATIONS REACHED LIMIT.\n",
            "\n",
            "Increase the number of iterations (max_iter) or scale the data as shown in:\n",
            "    https://scikit-learn.org/stable/modules/preprocessing.html\n",
            "Please also refer to the documentation for alternative solver options:\n",
            "    https://scikit-learn.org/stable/modules/linear_model.html#logistic-regression\n",
            "  extra_warning_msg=_LOGISTIC_SOLVER_CONVERGENCE_MSG)\n"
          ],
          "name": "stderr"
        }
      ]
    }
  ]
}